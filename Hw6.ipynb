{
 "cells": [
  {
   "cell_type": "code",
   "execution_count": 1,
   "id": "f926d4b2",
   "metadata": {},
   "outputs": [],
   "source": [
    "from scipy.integrate import quad\n",
    "from scipy.optimize import root_scalar\n",
    "import numpy as np"
   ]
  },
  {
   "cell_type": "code",
   "execution_count": 2,
   "id": "ece0f87b",
   "metadata": {},
   "outputs": [],
   "source": [
    "def alpha_func(x_tilda):\n",
    "    alpha, _ = quad(lambda x: x**2 * np.exp(-x**2), x_tilda, np.inf)\n",
    "    return (4 / np.sqrt(np.pi)) * alpha - 0.1"
   ]
  },
  {
   "cell_type": "code",
   "execution_count": 3,
   "id": "c8173379",
   "metadata": {},
   "outputs": [
    {
     "name": "stdout",
     "output_type": "stream",
     "text": [
      "      converged: True\n",
      "           flag: converged\n",
      " function_calls: 14\n",
      "     iterations: 13\n",
      "           root: 1.7679633241629085\n",
      "         method: brentq\n"
     ]
    }
   ],
   "source": [
    "sol = root_scalar(alpha_func, bracket=[1, 10])\n",
    "print(sol)"
   ]
  },
  {
   "cell_type": "code",
   "execution_count": 7,
   "id": "1cb645ee",
   "metadata": {},
   "outputs": [],
   "source": [
    "def T_new(x_tilda):\n",
    "    alpha, _ = quad(lambda x: x**2 * np.exp(-x**2), 0, x_tilda)\n",
    "    return 8 / (3 * np.sqrt(np.pi)) * alpha "
   ]
  },
  {
   "cell_type": "code",
   "execution_count": 8,
   "id": "c5cf12a3",
   "metadata": {},
   "outputs": [
    {
     "data": {
      "text/plain": [
       "0.5999999999999999"
      ]
     },
     "execution_count": 8,
     "metadata": {},
     "output_type": "execute_result"
    }
   ],
   "source": [
    "T_n = T_new(sol.root)\n",
    "T_n"
   ]
  },
  {
   "cell_type": "code",
   "execution_count": null,
   "id": "ac7f2cea",
   "metadata": {},
   "outputs": [],
   "source": []
  }
 ],
 "metadata": {
  "kernelspec": {
   "display_name": "base",
   "language": "python",
   "name": "python3"
  },
  "language_info": {
   "codemirror_mode": {
    "name": "ipython",
    "version": 3
   },
   "file_extension": ".py",
   "mimetype": "text/x-python",
   "name": "python",
   "nbconvert_exporter": "python",
   "pygments_lexer": "ipython3",
   "version": "3.12.7"
  }
 },
 "nbformat": 4,
 "nbformat_minor": 5
}
